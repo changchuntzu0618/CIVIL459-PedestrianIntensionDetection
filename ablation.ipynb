{
 "cells": [
  {
   "cell_type": "code",
   "execution_count": 23,
   "metadata": {},
   "outputs": [],
   "source": [
    "%load_ext autoreload\n",
    "%autoreload 2"
   ]
  },
  {
   "cell_type": "code",
   "execution_count": 64,
   "metadata": {},
   "outputs": [],
   "source": [
    "from src.dataset.Loader.main_loader import define_path\n",
    "from src.dataset.trans.data import TransDataset, extract_pred_sequence\n",
    "from src.dataset.trans.jaad_trans import JaadTransDataset\n",
    "from src.dataset.intention.jaad_dataset import build_pedb_dataset_jaad, subsample_and_balance\n",
    "import cv2\n",
    "import numpy as np\n",
    "import glob\n",
    "from IPython.display import display\n",
    "from PIL import Image\n",
    "import matplotlib.pyplot as plt\n",
    "\n",
    "from src.dataset.loader import PaddedSequenceDataset, IntentionSequenceDataset\n",
    "from src.transform.preprocess import ImageTransform, Compose, CropBox\n",
    "import torchvision\n",
    "import torch\n",
    "\n",
    "from sklearn.metrics import average_precision_score, f1_score, classification_report\n",
    "from train_hybrid import unpack_batch\n",
    "from tqdm import tqdm"
   ]
  },
  {
   "cell_type": "code",
   "execution_count": 65,
   "metadata": {},
   "outputs": [],
   "source": [
    "anns_paths, image_dir = define_path(use_jaad=True, use_pie=False, use_titan=False)\n",
    "anns_paths_val, image_dir_val = define_path(use_jaad=True, use_pie=False, use_titan=False)"
   ]
  },
  {
   "cell_type": "code",
   "execution_count": 66,
   "metadata": {},
   "outputs": [],
   "source": [
    "from dataclasses import dataclass\n",
    "\n",
    "@dataclass\n",
    "class Args:\n",
    "    encoder_type: str = 'CC'\n",
    "    encoder_pretrained: bool = False\n",
    "    epochs: int = 1\n",
    "    lr: float = 0.001\n",
    "    wd: float = 0.0\n",
    "    batch_size: int = 4\n",
    "    max_frames: int = 10\n",
    "    pred: int = 10\n",
    "    output: str = None\n",
    "    fps: int = 5\n",
    "    seed: int = 99\n",
    "    jitter_ratio: float = -1.0\n",
    "    mobilenetsmall: bool = False\n",
    "    mobilenetbig: bool = False\n",
    "    num_workers: int = 4\n",
    "\n",
    "args = Args(num_workers=0)\n",
    "max_frames = 10"
   ]
  },
  {
   "cell_type": "code",
   "execution_count": 67,
   "metadata": {},
   "outputs": [
    {
     "name": "stdout",
     "output_type": "stream",
     "text": [
      "----------------------------------------------------------------\n",
      "JAAD:\n",
      "Total number of crosses: 156\n",
      "Total number of non-crosses: 35\n",
      "Filtered samples: 1\n",
      "Total number of samples before and after balancing: 131, 131\n"
     ]
    }
   ],
   "source": [
    "image_set = \"test\"\n",
    "\n",
    "\n",
    "intent_sequences = build_pedb_dataset_jaad(anns_paths[\"JAAD\"][\"anns\"], anns_paths[\"JAAD\"][\"split\"], image_set=image_set, fps=args.fps, prediction_frames=args.pred, verbose=True)\n",
    "balance = False if image_set == \"test\" else True\n",
    "intent_sequences_cropped = subsample_and_balance(intent_sequences, max_frames=args.max_frames, seed=args.seed, balance=balance)\n",
    "\n",
    "jitter_ratio = None if args.jitter_ratio < 0 else args.jitter_ratio\n",
    "crop_preprocess = CropBox(size=224, padding_mode='pad_resize', jitter_ratio=jitter_ratio)\n",
    "if image_set == 'train':\n",
    "    TRANSFORM = Compose([\n",
    "        crop_preprocess,\n",
    "        ImageTransform(torchvision.transforms.ColorJitter(brightness=0.2, contrast=0.2, saturation=0.2, hue=0.1))\n",
    "        ])\n",
    "else:\n",
    "    TRANSFORM = crop_preprocess\n",
    "\n",
    "ds = IntentionSequenceDataset(intent_sequences_cropped[:500], image_dir=image_dir, hflip_p = 0.5, preprocess=TRANSFORM)"
   ]
  },
  {
   "cell_type": "code",
   "execution_count": 68,
   "metadata": {},
   "outputs": [],
   "source": [
    "from src.model.models import build_encoder_res18, DecoderRNN_IMBS\n",
    "from src.early_stopping import load_from_checkpoint\n",
    "\n",
    "CP_PATH = '/Users/arinaruck/Desktop/courses/CIVIL459-PedestrianIntensionDetection/checkpoints/silver-sweep-5/Decoder_IMBS_lr0.001_wd0.0001_JAAD_mf10_pred10_bs16_202305241656.pt'"
   ]
  },
  {
   "cell_type": "code",
   "execution_count": 69,
   "metadata": {},
   "outputs": [
    {
     "name": "stdout",
     "output_type": "stream",
     "text": [
      "Using resnet18 cnn encoder!!\n"
     ]
    },
    {
     "name": "stderr",
     "output_type": "stream",
     "text": [
      "/Users/arinaruck/opt/anaconda3/envs/ada/lib/python3.9/site-packages/torchvision/models/_utils.py:208: UserWarning: The parameter 'pretrained' is deprecated since 0.13 and may be removed in the future, please use 'weights' instead.\n",
      "  warnings.warn(\n",
      "/Users/arinaruck/opt/anaconda3/envs/ada/lib/python3.9/site-packages/torchvision/models/_utils.py:223: UserWarning: Arguments other than a weight enum or `None` for 'weights' are deprecated since 0.13 and may be removed in the future. The current behavior is equivalent to passing `weights=ResNet18_Weights.IMAGENET1K_V1`. You can also use `weights=ResNet18_Weights.DEFAULT` to get the most up-to-date weights.\n",
      "  warnings.warn(msg)\n"
     ]
    }
   ],
   "source": [
    "device = torch.device('cpu')\n",
    "\n",
    "\n",
    "encoder_res18 = build_encoder_res18(args)\n",
    "# freeze CNN-encoder during training\n",
    "encoder_res18.freeze_backbone()\n",
    "\n",
    "decoder_lstm = DecoderRNN_IMBS(CNN_embeded_size=256, h_RNN_0=256, h_RNN_1=64, h_RNN_2=16,\n",
    "                                h_FC0_dim=128, h_FC1_dim=64, h_FC2_dim=86, drop_p=0.2).to(device)\n",
    "\n",
    "model = {'encoder': encoder_res18, 'decoder': decoder_lstm}\n",
    "load_from_checkpoint(model, CP_PATH)"
   ]
  },
  {
   "cell_type": "code",
   "execution_count": 70,
   "metadata": {},
   "outputs": [],
   "source": [
    "@torch.no_grad()\n",
    "def abl_eval_model(loader, model, device, abl_type='none'):\n",
    "    # swith to evaluate mode\n",
    "    encoder_CNN, decoder_RNN = model['encoder'], model['decoder']\n",
    "    encoder_CNN.eval()\n",
    "    decoder_RNN.eval()\n",
    "\n",
    "    batch_size = loader.batch_size\n",
    "    n_steps = len(loader)\n",
    "\n",
    "    preds = np.zeros(n_steps * batch_size)\n",
    "    tgts = np.zeros(n_steps * batch_size)\n",
    "\n",
    "    for step, inputs in enumerate(tqdm(loader)):\n",
    "        images, seq_len, pv, scene, behavior, targets = unpack_batch(inputs, device)\n",
    "        outputs_CNN = encoder_CNN(images, seq_len)\n",
    "        if abl_type == 'CNN':\n",
    "            outputs_CNN = torch.zeros_like(outputs_CNN)\n",
    "        elif abl_type == 'scene':\n",
    "            scene = torch.zeros_like(scene)\n",
    "        elif abl_type == 'behavior':\n",
    "            behavior = torch.zeros_like(behavior)\n",
    "        elif abl_type == 'pv':\n",
    "            pv = torch.zeros_like(pv)\n",
    "        outputs_RNN = decoder_RNN(xc_3d=outputs_CNN, xp_3d=pv, \n",
    "                                    xb_3d=behavior, xs_2d=scene, x_lengths=seq_len)\n",
    "        \n",
    "        preds[step * batch_size: (step + 1) * batch_size] = outputs_RNN.detach().cpu().squeeze()\n",
    "        tgts[step * batch_size: (step + 1) * batch_size] = targets.detach().cpu().squeeze()\n",
    "\n",
    "    ap_score = average_precision_score(tgts, preds)\n",
    "    best_thr = decoder_RNN.threshold\n",
    "    f1 = f1_score(tgts, preds > best_thr)\n",
    "    preds = preds > best_thr\n",
    "    print(classification_report(tgts, preds), flush=True)\n",
    "    print(f\"AP: {ap_score}, F1: {f1}\", flush=True)"
   ]
  },
  {
   "cell_type": "code",
   "execution_count": 71,
   "metadata": {},
   "outputs": [],
   "source": [
    "test_loader = torch.utils.data.DataLoader(ds, batch_size=1, shuffle=False, num_workers=args.num_workers, pin_memory=True)\n"
   ]
  },
  {
   "cell_type": "code",
   "execution_count": 72,
   "metadata": {},
   "outputs": [
    {
     "name": "stderr",
     "output_type": "stream",
     "text": [
      "100%|██████████| 131/131 [01:21<00:00,  1.61it/s]"
     ]
    },
    {
     "name": "stdout",
     "output_type": "stream",
     "text": [
      "              precision    recall  f1-score   support\n",
      "\n",
      "         0.0       0.00      0.00      0.00         6\n",
      "         1.0       0.95      1.00      0.98       125\n",
      "\n",
      "    accuracy                           0.95       131\n",
      "   macro avg       0.48      0.50      0.49       131\n",
      "weighted avg       0.91      0.95      0.93       131\n",
      "\n",
      "AP: 0.9640141143283294, F1: 0.9765625\n"
     ]
    },
    {
     "name": "stderr",
     "output_type": "stream",
     "text": [
      "\n",
      "/Users/arinaruck/opt/anaconda3/envs/ada/lib/python3.9/site-packages/sklearn/metrics/_classification.py:1334: UndefinedMetricWarning: Precision and F-score are ill-defined and being set to 0.0 in labels with no predicted samples. Use `zero_division` parameter to control this behavior.\n",
      "  _warn_prf(average, modifier, msg_start, len(result))\n",
      "/Users/arinaruck/opt/anaconda3/envs/ada/lib/python3.9/site-packages/sklearn/metrics/_classification.py:1334: UndefinedMetricWarning: Precision and F-score are ill-defined and being set to 0.0 in labels with no predicted samples. Use `zero_division` parameter to control this behavior.\n",
      "  _warn_prf(average, modifier, msg_start, len(result))\n",
      "/Users/arinaruck/opt/anaconda3/envs/ada/lib/python3.9/site-packages/sklearn/metrics/_classification.py:1334: UndefinedMetricWarning: Precision and F-score are ill-defined and being set to 0.0 in labels with no predicted samples. Use `zero_division` parameter to control this behavior.\n",
      "  _warn_prf(average, modifier, msg_start, len(result))\n"
     ]
    }
   ],
   "source": [
    "abl_eval_model(test_loader, model, device)"
   ]
  },
  {
   "cell_type": "code",
   "execution_count": 73,
   "metadata": {},
   "outputs": [
    {
     "name": "stderr",
     "output_type": "stream",
     "text": [
      "100%|██████████| 131/131 [01:22<00:00,  1.59it/s]"
     ]
    },
    {
     "name": "stdout",
     "output_type": "stream",
     "text": [
      "              precision    recall  f1-score   support\n",
      "\n",
      "         0.0       0.00      0.00      0.00         6\n",
      "         1.0       0.95      1.00      0.98       125\n",
      "\n",
      "    accuracy                           0.95       131\n",
      "   macro avg       0.48      0.50      0.49       131\n",
      "weighted avg       0.91      0.95      0.93       131\n",
      "\n",
      "AP: 0.9572672649633381, F1: 0.9765625\n"
     ]
    },
    {
     "name": "stderr",
     "output_type": "stream",
     "text": [
      "\n",
      "/Users/arinaruck/opt/anaconda3/envs/ada/lib/python3.9/site-packages/sklearn/metrics/_classification.py:1334: UndefinedMetricWarning: Precision and F-score are ill-defined and being set to 0.0 in labels with no predicted samples. Use `zero_division` parameter to control this behavior.\n",
      "  _warn_prf(average, modifier, msg_start, len(result))\n",
      "/Users/arinaruck/opt/anaconda3/envs/ada/lib/python3.9/site-packages/sklearn/metrics/_classification.py:1334: UndefinedMetricWarning: Precision and F-score are ill-defined and being set to 0.0 in labels with no predicted samples. Use `zero_division` parameter to control this behavior.\n",
      "  _warn_prf(average, modifier, msg_start, len(result))\n",
      "/Users/arinaruck/opt/anaconda3/envs/ada/lib/python3.9/site-packages/sklearn/metrics/_classification.py:1334: UndefinedMetricWarning: Precision and F-score are ill-defined and being set to 0.0 in labels with no predicted samples. Use `zero_division` parameter to control this behavior.\n",
      "  _warn_prf(average, modifier, msg_start, len(result))\n"
     ]
    }
   ],
   "source": [
    "abl_eval_model(test_loader, model, device, abl_type='CNN')"
   ]
  },
  {
   "cell_type": "code",
   "execution_count": 74,
   "metadata": {},
   "outputs": [
    {
     "name": "stderr",
     "output_type": "stream",
     "text": [
      "100%|██████████| 131/131 [01:23<00:00,  1.57it/s]"
     ]
    },
    {
     "name": "stdout",
     "output_type": "stream",
     "text": [
      "              precision    recall  f1-score   support\n",
      "\n",
      "         0.0       0.00      0.00      0.00         6\n",
      "         1.0       0.95      1.00      0.98       125\n",
      "\n",
      "    accuracy                           0.95       131\n",
      "   macro avg       0.48      0.50      0.49       131\n",
      "weighted avg       0.91      0.95      0.93       131\n",
      "\n",
      "AP: 0.9306057546581918, F1: 0.9765625\n"
     ]
    },
    {
     "name": "stderr",
     "output_type": "stream",
     "text": [
      "\n",
      "/Users/arinaruck/opt/anaconda3/envs/ada/lib/python3.9/site-packages/sklearn/metrics/_classification.py:1334: UndefinedMetricWarning: Precision and F-score are ill-defined and being set to 0.0 in labels with no predicted samples. Use `zero_division` parameter to control this behavior.\n",
      "  _warn_prf(average, modifier, msg_start, len(result))\n",
      "/Users/arinaruck/opt/anaconda3/envs/ada/lib/python3.9/site-packages/sklearn/metrics/_classification.py:1334: UndefinedMetricWarning: Precision and F-score are ill-defined and being set to 0.0 in labels with no predicted samples. Use `zero_division` parameter to control this behavior.\n",
      "  _warn_prf(average, modifier, msg_start, len(result))\n",
      "/Users/arinaruck/opt/anaconda3/envs/ada/lib/python3.9/site-packages/sklearn/metrics/_classification.py:1334: UndefinedMetricWarning: Precision and F-score are ill-defined and being set to 0.0 in labels with no predicted samples. Use `zero_division` parameter to control this behavior.\n",
      "  _warn_prf(average, modifier, msg_start, len(result))\n"
     ]
    }
   ],
   "source": [
    "abl_eval_model(test_loader, model, device, abl_type='pv')"
   ]
  },
  {
   "cell_type": "code",
   "execution_count": 75,
   "metadata": {},
   "outputs": [
    {
     "name": "stderr",
     "output_type": "stream",
     "text": [
      "100%|██████████| 131/131 [01:31<00:00,  1.42it/s]"
     ]
    },
    {
     "name": "stdout",
     "output_type": "stream",
     "text": [
      "              precision    recall  f1-score   support\n",
      "\n",
      "         0.0       0.00      0.00      0.00         6\n",
      "         1.0       0.95      1.00      0.98       125\n",
      "\n",
      "    accuracy                           0.95       131\n",
      "   macro avg       0.48      0.50      0.49       131\n",
      "weighted avg       0.91      0.95      0.93       131\n",
      "\n",
      "AP: 0.9556074968299084, F1: 0.9765625\n"
     ]
    },
    {
     "name": "stderr",
     "output_type": "stream",
     "text": [
      "\n",
      "/Users/arinaruck/opt/anaconda3/envs/ada/lib/python3.9/site-packages/sklearn/metrics/_classification.py:1334: UndefinedMetricWarning: Precision and F-score are ill-defined and being set to 0.0 in labels with no predicted samples. Use `zero_division` parameter to control this behavior.\n",
      "  _warn_prf(average, modifier, msg_start, len(result))\n",
      "/Users/arinaruck/opt/anaconda3/envs/ada/lib/python3.9/site-packages/sklearn/metrics/_classification.py:1334: UndefinedMetricWarning: Precision and F-score are ill-defined and being set to 0.0 in labels with no predicted samples. Use `zero_division` parameter to control this behavior.\n",
      "  _warn_prf(average, modifier, msg_start, len(result))\n",
      "/Users/arinaruck/opt/anaconda3/envs/ada/lib/python3.9/site-packages/sklearn/metrics/_classification.py:1334: UndefinedMetricWarning: Precision and F-score are ill-defined and being set to 0.0 in labels with no predicted samples. Use `zero_division` parameter to control this behavior.\n",
      "  _warn_prf(average, modifier, msg_start, len(result))\n"
     ]
    }
   ],
   "source": [
    "abl_eval_model(test_loader, model, device, abl_type='behavior')"
   ]
  },
  {
   "cell_type": "code",
   "execution_count": 76,
   "metadata": {},
   "outputs": [
    {
     "name": "stderr",
     "output_type": "stream",
     "text": [
      "100%|██████████| 131/131 [01:32<00:00,  1.42it/s]"
     ]
    },
    {
     "name": "stdout",
     "output_type": "stream",
     "text": [
      "              precision    recall  f1-score   support\n",
      "\n",
      "         0.0       0.05      1.00      0.09         6\n",
      "         1.0       0.00      0.00      0.00       125\n",
      "\n",
      "    accuracy                           0.05       131\n",
      "   macro avg       0.02      0.50      0.04       131\n",
      "weighted avg       0.00      0.05      0.00       131\n",
      "\n",
      "AP: 0.99430689692157, F1: 0.0\n"
     ]
    },
    {
     "name": "stderr",
     "output_type": "stream",
     "text": [
      "\n",
      "/Users/arinaruck/opt/anaconda3/envs/ada/lib/python3.9/site-packages/sklearn/metrics/_classification.py:1334: UndefinedMetricWarning: Precision and F-score are ill-defined and being set to 0.0 in labels with no predicted samples. Use `zero_division` parameter to control this behavior.\n",
      "  _warn_prf(average, modifier, msg_start, len(result))\n",
      "/Users/arinaruck/opt/anaconda3/envs/ada/lib/python3.9/site-packages/sklearn/metrics/_classification.py:1334: UndefinedMetricWarning: Precision and F-score are ill-defined and being set to 0.0 in labels with no predicted samples. Use `zero_division` parameter to control this behavior.\n",
      "  _warn_prf(average, modifier, msg_start, len(result))\n",
      "/Users/arinaruck/opt/anaconda3/envs/ada/lib/python3.9/site-packages/sklearn/metrics/_classification.py:1334: UndefinedMetricWarning: Precision and F-score are ill-defined and being set to 0.0 in labels with no predicted samples. Use `zero_division` parameter to control this behavior.\n",
      "  _warn_prf(average, modifier, msg_start, len(result))\n"
     ]
    }
   ],
   "source": [
    "abl_eval_model(test_loader, model, device, abl_type='scene')"
   ]
  },
  {
   "cell_type": "code",
   "execution_count": null,
   "metadata": {},
   "outputs": [],
   "source": []
  }
 ],
 "metadata": {
  "kernelspec": {
   "display_name": "ada",
   "language": "python",
   "name": "python3"
  },
  "language_info": {
   "codemirror_mode": {
    "name": "ipython",
    "version": 3
   },
   "file_extension": ".py",
   "mimetype": "text/x-python",
   "name": "python",
   "nbconvert_exporter": "python",
   "pygments_lexer": "ipython3",
   "version": "3.9.13"
  },
  "orig_nbformat": 4
 },
 "nbformat": 4,
 "nbformat_minor": 2
}
